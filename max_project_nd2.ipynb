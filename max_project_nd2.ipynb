{
 "cells": [
  {
   "cell_type": "code",
   "execution_count": 2,
   "id": "36fe8584",
   "metadata": {},
   "outputs": [],
   "source": [
    "from tifffile import imwrite\n",
    "import numpy as np\n",
    "import time\n",
    "import sys\n",
    "import nd2\n",
    "\n",
    "# from max_project_nd2_fovs import max_project_nd2\n",
    "from max_project_nd2_stream import stream_max_project_nd2"
   ]
  },
  {
   "cell_type": "code",
   "execution_count": 3,
   "id": "13aa4c63",
   "metadata": {},
   "outputs": [],
   "source": [
    "in_filename = '/mnt/staging/round1_0002.nd2'\n",
    "out_filename = '/home/kklabs/max_round1_0002.ome.tif'"
   ]
  },
  {
   "cell_type": "code",
   "execution_count": null,
   "id": "acf174f9",
   "metadata": {},
   "outputs": [
    {
     "name": "stdout",
     "output_type": "stream",
     "text": [
      "[ND2] Processed 10/2504 FOVs in 27.51s\n",
      "[ND2] Processed 20/2504 FOVs in 27.22s\n",
      "[ND2] Processed 30/2504 FOVs in 24.18s\n",
      "[ND2] Processed 40/2504 FOVs in 25.01s\n",
      "[ND2] Processed 50/2504 FOVs in 24.52s\n",
      "[ND2] Processed 60/2504 FOVs in 25.32s\n",
      "[ND2] Processed 70/2504 FOVs in 25.07s\n",
      "[ND2] Processed 80/2504 FOVs in 26.07s\n",
      "[ND2] Processed 90/2504 FOVs in 32.07s\n",
      "[ND2] Processed 100/2504 FOVs in 29.76s\n",
      "[ND2] Processed 110/2504 FOVs in 28.49s\n",
      "[ND2] Processed 120/2504 FOVs in 28.52s\n",
      "[ND2] Processed 130/2504 FOVs in 24.28s\n",
      "[ND2] Processed 140/2504 FOVs in 25.54s\n",
      "[ND2] Processed 150/2504 FOVs in 25.39s\n",
      "[ND2] Processed 160/2504 FOVs in 25.83s\n",
      "[ND2] Processed 170/2504 FOVs in 24.87s\n",
      "[ND2] Processed 180/2504 FOVs in 24.24s\n",
      "[ND2] Processed 190/2504 FOVs in 24.54s\n",
      "[ND2] Processed 200/2504 FOVs in 24.80s\n",
      "[ND2] Processed 210/2504 FOVs in 24.77s\n",
      "[ND2] Processed 220/2504 FOVs in 25.34s\n",
      "[ND2] Processed 230/2504 FOVs in 24.78s\n",
      "[ND2] Processed 240/2504 FOVs in 24.64s\n",
      "[ND2] Processed 250/2504 FOVs in 24.62s\n",
      "[ND2] Processed 260/2504 FOVs in 25.31s\n",
      "[ND2] Processed 270/2504 FOVs in 24.70s\n",
      "[ND2] Processed 280/2504 FOVs in 24.85s\n",
      "[ND2] Processed 290/2504 FOVs in 24.69s\n"
     ]
    }
   ],
   "source": [
    "# stack = max_project_nd2(in_filename)\n",
    "stream_max_project_nd2(in_filename, out_filename)\n"
   ]
  },
  {
   "cell_type": "code",
   "execution_count": null,
   "id": "ce935dc0",
   "metadata": {},
   "outputs": [],
   "source": []
  }
 ],
 "metadata": {
  "kernelspec": {
   "display_name": "micro_bf39",
   "language": "python",
   "name": "python3"
  },
  "language_info": {
   "codemirror_mode": {
    "name": "ipython",
    "version": 3
   },
   "file_extension": ".py",
   "mimetype": "text/x-python",
   "name": "python",
   "nbconvert_exporter": "python",
   "pygments_lexer": "ipython3",
   "version": "3.9.23"
  }
 },
 "nbformat": 4,
 "nbformat_minor": 5
}
